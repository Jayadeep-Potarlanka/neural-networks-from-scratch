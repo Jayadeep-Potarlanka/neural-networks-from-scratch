{
 "cells": [
  {
   "cell_type": "markdown",
   "id": "6b0de2f8",
   "metadata": {},
   "source": [
    "# Jayadeep"
   ]
  },
  {
   "cell_type": "code",
   "execution_count": 1,
   "id": "886afb82-1098-437c-936b-f852cd68f1d8",
   "metadata": {},
   "outputs": [
    {
     "name": "stdout",
     "output_type": "stream",
     "text": [
      "Files already downloaded and verified\n",
      "Files already downloaded and verified\n"
     ]
    }
   ],
   "source": [
    "# Step 1: Import necessary libraries\n",
    "import numpy as np\n",
    "import matplotlib.pyplot as plt\n",
    "from torchvision import datasets, transforms\n",
    "\n",
    "# Step 2: Load CIFAR-10 dataset\n",
    "transform = transforms.Compose([\n",
    "    transforms.ToTensor(),\n",
    "    transforms.Normalize((0.5, 0.5, 0.5), (0.5, 0.5, 0.5))  # Normalize the images\n",
    "])\n",
    "trainset = datasets.CIFAR10(root='./data', train=True, download=True, transform=transform)\n",
    "testset = datasets.CIFAR10(root='./data', train=False, download=True, transform=transform)\n"
   ]
  },
  {
   "cell_type": "code",
   "execution_count": 2,
   "id": "937263dc-f519-4699-98a5-6867fe06db55",
   "metadata": {},
   "outputs": [],
   "source": [
    "# Define activation functions\n",
    "def relu(x):\n",
    "    return np.maximum(0, x)\n",
    "\n",
    "def softmax(x):\n",
    "    e_x = np.exp(x - np.max(x))  # stability improvement\n",
    "    return e_x / e_x.sum(axis=0)\n",
    "\n",
    "def show_image(img, title=\"Image\"):\n",
    "    img = img / 2 + 0.5  # Unnormalize\n",
    "    plt.imshow(img)\n",
    "    plt.title(title)\n",
    "    plt.axis('off')\n",
    "    plt.show()\n",
    "\n"
   ]
  },
  {
   "cell_type": "code",
   "execution_count": 3,
   "id": "f216e569-09af-4a8c-ad3b-8491033d0c20",
   "metadata": {},
   "outputs": [],
   "source": [
    "\n",
    "# Convolution function\n",
    "def convolve2d(image, kernels, stride=1, padding=0, activation=relu):\n",
    "    if padding > 0:\n",
    "        image = np.pad(image, ((padding, padding), (padding, padding), (0, 0)), mode='constant')\n",
    "\n",
    "    kernel_height, kernel_width, _, num_kernels = kernels.shape\n",
    "    output_height = (image.shape[0] - kernel_height) // stride + 1\n",
    "    output_width = (image.shape[1] - kernel_width) // stride + 1\n",
    "    \n",
    "    output = np.zeros((output_height, output_width, num_kernels))\n",
    "    \n",
    "    for i in range(num_kernels):  # Iterate over each kernel\n",
    "        kernel = kernels[:, :, :, i]  # Get the i-th kernel\n",
    "        for y in range(output_height):\n",
    "            for x in range(output_width):\n",
    "                output[y, x, i] = np.sum(image[y*stride:y*stride+kernel_height, x*stride:x*stride+kernel_width, :] * kernel)\n",
    "    \n",
    "    return activation(output)"
   ]
  },
  {
   "cell_type": "code",
   "execution_count": 4,
   "id": "93ceb182-3847-4a64-a622-d7de31609830",
   "metadata": {},
   "outputs": [],
   "source": [
    "# Pooling function\n",
    "def pooling2d(image, pool_size=2, stride=2, mode='max'):\n",
    "    output_height = (image.shape[0] - pool_size) // stride + 1\n",
    "    output_width = (image.shape[1] - pool_size) // stride + 1\n",
    "    output = np.zeros((output_height, output_width, image.shape[2]))\n",
    "    \n",
    "    for y in range(output_height):\n",
    "        for x in range(output_width):\n",
    "            for c in range(image.shape[2]):\n",
    "                if mode == 'max':\n",
    "                    output[y, x, c] = np.max(image[y*stride:y*stride+pool_size, x*stride:x*stride+pool_size, c])\n",
    "                elif mode == 'average':\n",
    "                    output[y, x, c] = np.mean(image[y*stride:y*stride+pool_size, x*stride:x*stride+pool_size, c])\n",
    "    \n",
    "    return output\n"
   ]
  },
  {
   "cell_type": "code",
   "execution_count": 5,
   "id": "7501d6d4-1971-4604-a4b3-fa1178288133",
   "metadata": {},
   "outputs": [],
   "source": [
    "# Flatten function\n",
    "def flatten(image):\n",
    "    return image.flatten()\n"
   ]
  },
  {
   "cell_type": "code",
   "execution_count": 6,
   "id": "982e3d97-6cd4-4857-8b77-23b5176b44bb",
   "metadata": {},
   "outputs": [],
   "source": [
    "# MLP class definition\n",
    "class MLP:\n",
    "    def __init__(self, input_size, hidden_size, output_size):\n",
    "        self.weights = [\n",
    "            np.random.randn(input_size, hidden_size),\n",
    "            np.random.randn(hidden_size, output_size)\n",
    "        ]\n",
    "        self.biases = [\n",
    "            np.random.randn(hidden_size),\n",
    "            np.random.randn(output_size)\n",
    "        ]\n",
    "\n",
    "    def forward(self, x):\n",
    "        for weight, bias in zip(self.weights, self.biases):\n",
    "            x = relu(np.dot(x, weight) + bias)\n",
    "        return x\n"
   ]
  },
  {
   "cell_type": "code",
   "execution_count": 7,
   "id": "e580988b-100e-4410-a14f-9e1f6f34fc3b",
   "metadata": {},
   "outputs": [],
   "source": [
    "\n",
    "# CNN class definition\n",
    "class SimpleCNN:\n",
    "    def __init__(self):\n",
    "        # Initialize filters (kernels) randomly\n",
    "        self.conv1_kernels = np.random.randn(5, 5, 3, 6)  # 6 kernels, 5x5 size, 3 channels\n",
    "        self.conv2_kernels = np.random.randn(5, 5, 6, 16)  # 16 kernels, 5x5 size, 6 channels\n",
    "        self.mlp = MLP(16 * 8 * 8, 120, 10)  # Updated input size after pooling\n",
    "\n",
    "    def forward(self, image):\n",
    "        # First Convolution Layer\n",
    "        conv1_out = convolve2d(image, self.conv1_kernels, stride=1, padding=2)\n",
    "        # Max Pooling Layer\n",
    "        pool1_out = pooling2d(conv1_out, pool_size=2, stride=2)\n",
    "        # Second Convolution Layer\n",
    "        conv2_out = convolve2d(pool1_out, self.conv2_kernels, stride=1, padding=2)\n",
    "        # Max Pooling Layer\n",
    "        pool2_out = pooling2d(conv2_out, pool_size=2, stride=2)\n",
    "        # Flattening Layer\n",
    "        flat_out = flatten(pool2_out)\n",
    "        # Fully Connected Layer\n",
    "        output_vector = self.mlp.forward(flat_out)\n",
    "        return softmax(output_vector)\n",
    "\n",
    "\n"
   ]
  },
  {
   "cell_type": "code",
   "execution_count": 8,
   "id": "0977db15-a837-475a-a885-a512435aef51",
   "metadata": {},
   "outputs": [
    {
     "data": {
      "image/png": "[encoded data removed]",
      "text/plain": [
       "<Figure size 432x288 with 1 Axes>"
      ]
     },
     "metadata": {
      "needs_background": "light"
     },
     "output_type": "display_data"
    },
    {
     "name": "stdout",
     "output_type": "stream",
     "text": [
      "Output vector for class 'airplane': [1. 0. 0. 0. 0. 0. 0. 0. 0. 0.]\n"
     ]
    },
    {
     "data": {
      "image/png": "[encoded data removed]",
      "text/plain": [
       "<Figure size 432x288 with 1 Axes>"
      ]
     },
     "metadata": {
      "needs_background": "light"
     },
     "output_type": "display_data"
    },
    {
     "name": "stdout",
     "output_type": "stream",
     "text": [
      "Output vector for class 'automobile': [0. 0. 0. 0. 0. 0. 0. 0. 0. 1.]\n"
     ]
    },
    {
     "data": {
      "image/png": "[encoded data removed]",
      "text/plain": [
       "<Figure size 432x288 with 1 Axes>"
      ]
     },
     "metadata": {
      "needs_background": "light"
     },
     "output_type": "display_data"
    },
    {
     "name": "stdout",
     "output_type": "stream",
     "text": [
      "Output vector for class 'bird': [0. 0. 0. 0. 0. 0. 0. 0. 0. 1.]\n"
     ]
    },
    {
     "data": {
      "image/png": "[encoded data removed]",
      "text/plain": [
       "<Figure size 432x288 with 1 Axes>"
      ]
     },
     "metadata": {
      "needs_background": "light"
     },
     "output_type": "display_data"
    },
    {
     "name": "stdout",
     "output_type": "stream",
     "text": [
      "Output vector for class 'cat': [0. 0. 0. 0. 0. 0. 0. 0. 0. 1.]\n"
     ]
    },
    {
     "data": {
      "image/png": "[encoded data removed]",
      "text/plain": [
       "<Figure size 432x288 with 1 Axes>"
      ]
     },
     "metadata": {
      "needs_background": "light"
     },
     "output_type": "display_data"
    },
    {
     "name": "stdout",
     "output_type": "stream",
     "text": [
      "Output vector for class 'deer': [0. 0. 0. 0. 0. 0. 1. 0. 0. 0.]\n"
     ]
    },
    {
     "data": {
      "image/png": "[encoded data removed]",
      "text/plain": [
       "<Figure size 432x288 with 1 Axes>"
      ]
     },
     "metadata": {
      "needs_background": "light"
     },
     "output_type": "display_data"
    },
    {
     "name": "stdout",
     "output_type": "stream",
     "text": [
      "Output vector for class 'dog': [0. 0. 0. 0. 0. 0. 1. 0. 0. 0.]\n"
     ]
    },
    {
     "data": {
      "image/png": "[encoded data removed]",
      "text/plain": [
       "<Figure size 432x288 with 1 Axes>"
      ]
     },
     "metadata": {
      "needs_background": "light"
     },
     "output_type": "display_data"
    },
    {
     "name": "stdout",
     "output_type": "stream",
     "text": [
      "Output vector for class 'frog': [0. 0. 0. 0. 0. 0. 0. 0. 0. 1.]\n"
     ]
    },
    {
     "data": {
      "image/png": "[encoded data removed]",
      "text/plain": [
       "<Figure size 432x288 with 1 Axes>"
      ]
     },
     "metadata": {
      "needs_background": "light"
     },
     "output_type": "display_data"
    },
    {
     "name": "stdout",
     "output_type": "stream",
     "text": [
      "Output vector for class 'horse': [0. 0. 0. 0. 0. 1. 0. 0. 0. 0.]\n"
     ]
    },
    {
     "data": {
      "image/png": "[encoded data removed]",
      "text/plain": [
       "<Figure size 432x288 with 1 Axes>"
      ]
     },
     "metadata": {
      "needs_background": "light"
     },
     "output_type": "display_data"
    },
    {
     "name": "stdout",
     "output_type": "stream",
     "text": [
      "Output vector for class 'ship': [0. 0. 0. 0. 0. 0. 1. 0. 0. 0.]\n"
     ]
    },
    {
     "data": {
      "image/png": "[encoded data removed]",
      "text/plain": [
       "<Figure size 432x288 with 1 Axes>"
      ]
     },
     "metadata": {
      "needs_background": "light"
     },
     "output_type": "display_data"
    },
    {
     "name": "stdout",
     "output_type": "stream",
     "text": [
      "Output vector for class 'truck': [0. 0. 0. 0. 0. 0. 1. 0. 0. 0.]\n"
     ]
    }
   ],
   "source": [
    "# Initialize CNN\n",
    "cnn = SimpleCNN()\n",
    "\n",
    "# Step 11: Test the CNN with images from each class\n",
    "class_labels = trainset.classes\n",
    "\n",
    "for i in range(10):  # For each class\n",
    "    sample_image, _ = trainset[i * 500]  # Get an image from each class\n",
    "    sample_image_np = sample_image.numpy().transpose(1, 2, 0)  # Convert to numpy and reshape\n",
    "    show_image(sample_image_np, title=f\"Class: {class_labels[i]}\")  # Show image\n",
    "\n",
    "    output_vector = cnn.forward(sample_image_np)  # Forward pass\n",
    "    print(f\"Output vector for class '{class_labels[i]}':\", output_vector)"
   ]
  },
  {
   "cell_type": "code",
   "execution_count": 13,
   "id": "def18bac-47bb-46dd-bc63-8bdcb00006b5",
   "metadata": {},
   "outputs": [],
   "source": [
    "import torch\n",
    "import torch.nn as nn\n",
    "import torch.nn.functional as F\n",
    "import torchvision\n",
    "import torchvision.transforms as transforms\n",
    "\n",
    "class SimpleCNN(nn.Module):\n",
    "    def __init__(self):\n",
    "        super(SimpleCNN, self).__init__()\n",
    "        self.conv1 = nn.Conv2d(3, 32, kernel_size=5, padding=2)  # Convolutional layer\n",
    "        self.pool = nn.MaxPool2d(kernel_size=2, stride=2)        # Pooling layer\n",
    "        self.conv2 = nn.Conv2d(32, 64, kernel_size=5, padding=2) # Second convolutional layer\n",
    "        self.fc1 = nn.Linear(64 * 8 * 8, 128)                    # Fully connected layer\n",
    "        self.fc2 = nn.Linear(128, 10)                             # Output layer\n",
    "        \n",
    "    def forward(self, x):\n",
    "        x = self.pool(F.relu(self.conv1(x)))\n",
    "        x = self.pool(F.relu(self.conv2(x)))\n",
    "        x = x.view(-1, 64 * 8 * 8)  # Flatten the tensor\n",
    "        x = F.relu(self.fc1(x))\n",
    "        x = self.fc2(x)\n",
    "        return x\n"
   ]
  },
  {
   "cell_type": "code",
   "execution_count": 14,
   "id": "2ad8e996-030c-444f-91fc-250ffd566614",
   "metadata": {},
   "outputs": [
    {
     "name": "stdout",
     "output_type": "stream",
     "text": [
      "Files already downloaded and verified\n",
      "Files already downloaded and verified\n"
     ]
    }
   ],
   "source": [
    "# Load CIFAR-10 dataset\n",
    "transform = transforms.Compose([transforms.ToTensor()])\n",
    "trainset = torchvision.datasets.CIFAR10(root='./data', train=True, download=True, transform=transform)\n",
    "testset = torchvision.datasets.CIFAR10(root='./data', train=False, download=True, transform=transform)\n",
    "\n",
    "# Select 100 samples per class for training\n",
    "train_samples = [trainset.targets.index(i) for i in range(10) for _ in range(100)]\n",
    "train_subset = torch.utils.data.Subset(trainset, train_samples)\n",
    "\n",
    "# Data loaders\n",
    "trainloader = torch.utils.data.DataLoader(train_subset, batch_size=10, shuffle=True)\n",
    "testloader = torch.utils.data.DataLoader(testset, batch_size=10, shuffle=False)\n"
   ]
  },
  {
   "cell_type": "code",
   "execution_count": 15,
   "id": "d1ebc94f-9f74-4de8-809b-893b41a39895",
   "metadata": {},
   "outputs": [],
   "source": [
    "import matplotlib.pyplot as plt\n",
    "\n",
    "def train_model(model, criterion, optimizer, epochs=15):\n",
    "    train_losses = []\n",
    "    test_losses = []\n",
    "    accuracies = []\n",
    "    \n",
    "    for epoch in range(epochs):\n",
    "        model.train()\n",
    "        running_loss = 0.0\n",
    "        for inputs, labels in trainloader:\n",
    "            optimizer.zero_grad()\n",
    "            outputs = model(inputs)\n",
    "            loss = criterion(outputs, labels)\n",
    "            loss.backward()\n",
    "            optimizer.step()\n",
    "            running_loss += loss.item()\n",
    "        \n",
    "        # Record training loss\n",
    "        train_losses.append(running_loss / len(trainloader))\n",
    "        \n",
    "        # Calculate test loss and accuracy\n",
    "        test_loss, correct = 0.0, 0\n",
    "        model.eval()\n",
    "        with torch.no_grad():\n",
    "            for inputs, labels in testloader:\n",
    "                outputs = model(inputs)\n",
    "                loss = criterion(outputs, labels)\n",
    "                test_loss += loss.item()\n",
    "                pred = outputs.argmax(dim=1, keepdim=True)\n",
    "                correct += pred.eq(labels.view_as(pred)).sum().item()\n",
    "        \n",
    "        test_losses.append(test_loss / len(testloader))\n",
    "        accuracy = 100. * correct / len(testloader.dataset)\n",
    "        accuracies.append(accuracy)\n",
    "        \n",
    "        print(f'Epoch [{epoch+1}/{epochs}], Training Loss: {train_losses[-1]:.4f}, Test Loss: {test_losses[-1]:.4f}, Accuracy: {accuracy:.2f}%')\n",
    "    \n",
    "    return train_losses, test_losses, accuracies\n"
   ]
  },
  {
   "cell_type": "code",
   "execution_count": 16,
   "id": "7aea7d94-eac0-47a4-bdc9-862e67db6b44",
   "metadata": {},
   "outputs": [],
   "source": [
    "class SimpleCNNWithDropout(nn.Module):\n",
    "    def __init__(self, dropout_rate=0.2):\n",
    "        super(SimpleCNNWithDropout, self).__init__()\n",
    "        self.conv1 = nn.Conv2d(3, 32, kernel_size=5, padding=2)\n",
    "        self.pool = nn.MaxPool2d(kernel_size=2, stride=2)\n",
    "        self.conv2 = nn.Conv2d(32, 64, kernel_size=5, padding=2)\n",
    "        self.fc1 = nn.Linear(64 * 8 * 8, 128)\n",
    "        self.dropout = nn.Dropout(dropout_rate)\n",
    "        self.fc2 = nn.Linear(128, 10)\n",
    "        \n",
    "    def forward(self, x):\n",
    "        x = self.pool(F.relu(self.conv1(x)))\n",
    "        x = self.pool(F.relu(self.conv2(x)))\n",
    "        x = x.view(-1, 64 * 8 * 8)\n",
    "        x = self.dropout(F.relu(self.fc1(x)))  # Apply dropout\n",
    "        x = self.fc2(x)\n",
    "        return x\n"
   ]
  },
  {
   "cell_type": "code",
   "execution_count": 17,
   "id": "4d859950-3a65-43d1-8e3d-9d4e12f59c88",
   "metadata": {},
   "outputs": [
    {
     "name": "stdout",
     "output_type": "stream",
     "text": [
      "Epoch [1/15], Training Loss: 2.2893, Test Loss: 2.3010, Accuracy: 10.00%\n",
      "Epoch [2/15], Training Loss: 2.2660, Test Loss: 2.2992, Accuracy: 12.01%\n",
      "Epoch [3/15], Training Loss: 2.2418, Test Loss: 2.2979, Accuracy: 12.45%\n",
      "Epoch [4/15], Training Loss: 2.2114, Test Loss: 2.2971, Accuracy: 11.14%\n",
      "Epoch [5/15], Training Loss: 2.1697, Test Loss: 2.2978, Accuracy: 9.91%\n",
      "Epoch [6/15], Training Loss: 2.1102, Test Loss: 2.3021, Accuracy: 9.59%\n",
      "Epoch [7/15], Training Loss: 2.0213, Test Loss: 2.3127, Accuracy: 10.20%\n",
      "Epoch [8/15], Training Loss: 1.8834, Test Loss: 2.3226, Accuracy: 10.92%\n",
      "Epoch [9/15], Training Loss: 1.6618, Test Loss: 2.3532, Accuracy: 11.34%\n",
      "Epoch [10/15], Training Loss: 1.3308, Test Loss: 2.4895, Accuracy: 10.98%\n",
      "Epoch [11/15], Training Loss: 0.9340, Test Loss: 2.6892, Accuracy: 11.59%\n",
      "Epoch [12/15], Training Loss: 0.5803, Test Loss: 3.0130, Accuracy: 12.70%\n",
      "Epoch [13/15], Training Loss: 0.3599, Test Loss: 3.3991, Accuracy: 12.03%\n",
      "Epoch [14/15], Training Loss: 0.2409, Test Loss: 3.6916, Accuracy: 11.57%\n",
      "Epoch [15/15], Training Loss: 0.1800, Test Loss: 3.9789, Accuracy: 11.48%\n"
     ]
    }
   ],
   "source": [
    "# Example: Training with vanilla SGD\n",
    "model = SimpleCNN()\n",
    "criterion = nn.CrossEntropyLoss()\n",
    "optimizer = torch.optim.SGD(model.parameters(), lr=0.001)\n",
    "\n",
    "train_losses, test_losses, accuracies = train_model(model, criterion, optimizer)\n"
   ]
  },
  {
   "cell_type": "code",
   "execution_count": 18,
   "id": "e03840ca-c3eb-4355-bb9c-5be38069e31e",
   "metadata": {},
   "outputs": [
    {
     "name": "stdout",
     "output_type": "stream",
     "text": [
      "Epoch [1/15], Training Loss: 0.6992, Test Loss: 4.4620, Accuracy: 13.69%\n",
      "Epoch [2/15], Training Loss: 0.0215, Test Loss: 5.1015, Accuracy: 15.95%\n",
      "Epoch [3/15], Training Loss: 0.0003, Test Loss: 7.4179, Accuracy: 15.17%\n",
      "Epoch [4/15], Training Loss: 0.0431, Test Loss: 6.9537, Accuracy: 15.35%\n",
      "Epoch [5/15], Training Loss: 0.0001, Test Loss: 10.0993, Accuracy: 13.65%\n",
      "Epoch [6/15], Training Loss: 0.0335, Test Loss: 11.8485, Accuracy: 13.32%\n",
      "Epoch [7/15], Training Loss: 0.0000, Test Loss: 9.8891, Accuracy: 15.07%\n",
      "Epoch [8/15], Training Loss: 0.0001, Test Loss: 13.4609, Accuracy: 14.28%\n",
      "Epoch [9/15], Training Loss: 0.0001, Test Loss: 16.7023, Accuracy: 13.65%\n",
      "Epoch [10/15], Training Loss: 0.0000, Test Loss: 13.9721, Accuracy: 14.72%\n",
      "Epoch [11/15], Training Loss: 0.0000, Test Loss: 15.8681, Accuracy: 14.02%\n",
      "Epoch [12/15], Training Loss: 0.0000, Test Loss: 18.9246, Accuracy: 13.84%\n",
      "Epoch [13/15], Training Loss: 0.0000, Test Loss: 19.0756, Accuracy: 12.66%\n",
      "Epoch [14/15], Training Loss: 0.0041, Test Loss: 18.8478, Accuracy: 13.20%\n",
      "Epoch [15/15], Training Loss: 0.0062, Test Loss: 17.4326, Accuracy: 13.38%\n",
      "Epoch [1/15], Training Loss: 0.7056, Test Loss: 4.2221, Accuracy: 13.93%\n",
      "Epoch [2/15], Training Loss: 0.0295, Test Loss: 5.7459, Accuracy: 15.94%\n",
      "Epoch [3/15], Training Loss: 0.0070, Test Loss: 7.7570, Accuracy: 15.53%\n",
      "Epoch [4/15], Training Loss: 0.0033, Test Loss: 9.5118, Accuracy: 14.74%\n",
      "Epoch [5/15], Training Loss: 0.0040, Test Loss: 8.4973, Accuracy: 15.68%\n",
      "Epoch [6/15], Training Loss: 0.0040, Test Loss: 11.9749, Accuracy: 15.28%\n",
      "Epoch [7/15], Training Loss: 0.0048, Test Loss: 12.6691, Accuracy: 16.64%\n",
      "Epoch [8/15], Training Loss: 0.0006, Test Loss: 12.9678, Accuracy: 14.85%\n",
      "Epoch [9/15], Training Loss: 0.0040, Test Loss: 11.4553, Accuracy: 16.68%\n",
      "Epoch [10/15], Training Loss: 0.0036, Test Loss: 11.0539, Accuracy: 14.46%\n",
      "Epoch [11/15], Training Loss: 0.0001, Test Loss: 17.5058, Accuracy: 13.90%\n",
      "Epoch [12/15], Training Loss: 0.0003, Test Loss: 20.4806, Accuracy: 14.22%\n",
      "Epoch [13/15], Training Loss: 0.0028, Test Loss: 15.5780, Accuracy: 16.08%\n",
      "Epoch [14/15], Training Loss: 0.0000, Test Loss: 16.5348, Accuracy: 16.30%\n",
      "Epoch [15/15], Training Loss: 0.0000, Test Loss: 20.8284, Accuracy: 14.78%\n",
      "Epoch [1/15], Training Loss: 1.3387, Test Loss: 2.8398, Accuracy: 16.75%\n",
      "Epoch [2/15], Training Loss: 0.3531, Test Loss: 3.8412, Accuracy: 14.64%\n",
      "Epoch [3/15], Training Loss: 0.1971, Test Loss: 4.7078, Accuracy: 16.56%\n",
      "Epoch [4/15], Training Loss: 0.1804, Test Loss: 5.7793, Accuracy: 16.27%\n",
      "Epoch [5/15], Training Loss: 0.1735, Test Loss: 5.6055, Accuracy: 15.66%\n",
      "Epoch [6/15], Training Loss: 0.1636, Test Loss: 6.2055, Accuracy: 16.16%\n",
      "Epoch [7/15], Training Loss: 0.1482, Test Loss: 5.9052, Accuracy: 14.60%\n",
      "Epoch [8/15], Training Loss: 0.1151, Test Loss: 8.6155, Accuracy: 15.11%\n",
      "Epoch [9/15], Training Loss: 0.1363, Test Loss: 8.8817, Accuracy: 15.89%\n",
      "Epoch [10/15], Training Loss: 0.1142, Test Loss: 6.2888, Accuracy: 16.32%\n",
      "Epoch [11/15], Training Loss: 0.0817, Test Loss: 9.4879, Accuracy: 16.06%\n",
      "Epoch [12/15], Training Loss: 0.1024, Test Loss: 8.0361, Accuracy: 16.55%\n",
      "Epoch [13/15], Training Loss: 0.1246, Test Loss: 7.5140, Accuracy: 15.74%\n",
      "Epoch [14/15], Training Loss: 0.0949, Test Loss: 8.3146, Accuracy: 16.52%\n",
      "Epoch [15/15], Training Loss: 0.0922, Test Loss: 7.4978, Accuracy: 15.72%\n"
     ]
    }
   ],
   "source": [
    "for rate in [0.2, 0.5, 0.8]:\n",
    "    model = SimpleCNNWithDropout(dropout_rate=rate)\n",
    "    optimizer = torch.optim.RMSprop(model.parameters(), lr=0.001, alpha=0.9)\n",
    "    train_losses, test_losses, accuracies = train_model(model, criterion, optimizer)\n",
    "    # Store and compare results\n"
   ]
  },
  {
   "cell_type": "code",
   "execution_count": 19,
   "id": "d82cc7e9-fc4e-4381-92cc-2ee938d81979",
   "metadata": {},
   "outputs": [],
   "source": [
    "# Example: Adjusting the learning rate and using Adam optimizer\n",
    "optimizer = torch.optim.Adam(model.parameters(), lr=0.001)  # Try Adam optimizer\n",
    "\n",
    "# Example: Adding Batch Normalization to the model\n",
    "class SimpleCNNWithBatchNorm(nn.Module):\n",
    "    def __init__(self):\n",
    "        super(SimpleCNNWithBatchNorm, self).__init__()\n",
    "        self.conv1 = nn.Conv2d(3, 32, kernel_size=5, padding=2)\n",
    "        self.bn1 = nn.BatchNorm2d(32)  # Batch Normalization\n",
    "        self.pool = nn.MaxPool2d(kernel_size=2, stride=2)\n",
    "        self.conv2 = nn.Conv2d(32, 64, kernel_size=5, padding=2)\n",
    "        self.bn2 = nn.BatchNorm2d(64)  # Batch Normalization\n",
    "        self.fc1 = nn.Linear(64 * 8 * 8, 128)\n",
    "        self.fc2 = nn.Linear(128, 10)\n",
    "\n",
    "    def forward(self, x):\n",
    "        x = self.pool(F.relu(self.bn1(self.conv1(x))))  # Apply Batch Norm\n",
    "        x = self.pool(F.relu(self.bn2(self.conv2(x))))  # Apply Batch Norm\n",
    "        x = x.view(-1, 64 * 8 * 8)\n",
    "        x = F.relu(self.fc1(x))\n",
    "        x = self.fc2(x)\n",
    "        return x\n",
    "\n",
    "# Initialize and train with the new model\n",
    "model = SimpleCNNWithBatchNorm()\n"
   ]
  },
  {
   "cell_type": "code",
   "execution_count": 20,
   "id": "368ed5f0-b439-4e26-8902-9c3c82f5afff",
   "metadata": {},
   "outputs": [
    {
     "name": "stdout",
     "output_type": "stream",
     "text": [
      "Epoch [1/15], Training Loss: 2.2903, Test Loss: 2.3019, Accuracy: 9.24%\n",
      "Epoch [2/15], Training Loss: 2.2734, Test Loss: 2.3011, Accuracy: 9.70%\n",
      "Epoch [3/15], Training Loss: 2.2578, Test Loss: 2.3002, Accuracy: 10.06%\n",
      "Epoch [4/15], Training Loss: 2.2385, Test Loss: 2.2993, Accuracy: 9.82%\n",
      "Epoch [5/15], Training Loss: 2.2135, Test Loss: 2.2986, Accuracy: 9.27%\n",
      "Epoch [6/15], Training Loss: 2.1805, Test Loss: 2.2986, Accuracy: 9.18%\n",
      "Epoch [7/15], Training Loss: 2.1351, Test Loss: 2.2995, Accuracy: 9.40%\n",
      "Epoch [8/15], Training Loss: 2.0674, Test Loss: 2.3035, Accuracy: 10.25%\n",
      "Epoch [9/15], Training Loss: 1.9644, Test Loss: 2.3111, Accuracy: 10.37%\n",
      "Epoch [10/15], Training Loss: 1.8030, Test Loss: 2.3242, Accuracy: 10.71%\n",
      "Epoch [11/15], Training Loss: 1.5555, Test Loss: 2.3671, Accuracy: 12.71%\n",
      "Epoch [12/15], Training Loss: 1.2151, Test Loss: 2.4815, Accuracy: 13.42%\n",
      "Epoch [13/15], Training Loss: 0.8398, Test Loss: 2.6858, Accuracy: 13.71%\n",
      "Epoch [14/15], Training Loss: 0.5354, Test Loss: 3.0136, Accuracy: 12.57%\n",
      "Epoch [15/15], Training Loss: 0.3433, Test Loss: 3.2937, Accuracy: 13.07%\n"
     ]
    }
   ],
   "source": [
    " # Example: Training with vanilla SGD\n",
    "model = SimpleCNN()\n",
    "criterion = nn.CrossEntropyLoss()\n",
    "optimizer = torch.optim.SGD(model.parameters(), lr=0.001)\n",
    "\n",
    "train_losses, test_losses, accuracies = train_model(model, criterion, optimizer)\n"
   ]
  },
  {
   "cell_type": "code",
   "execution_count": 21,
   "id": "643804fc-b51b-45e9-8e17-f84f4cc184c4",
   "metadata": {},
   "outputs": [
    {
     "name": "stdout",
     "output_type": "stream",
     "text": [
      "Epoch [1/15], Training Loss: 0.3916, Test Loss: 4.2267, Accuracy: 14.62%\n",
      "Epoch [2/15], Training Loss: 0.0316, Test Loss: 5.4856, Accuracy: 13.52%\n",
      "Epoch [3/15], Training Loss: 0.0003, Test Loss: 5.4225, Accuracy: 13.59%\n",
      "Epoch [4/15], Training Loss: 0.0003, Test Loss: 6.5826, Accuracy: 14.24%\n",
      "Epoch [5/15], Training Loss: 0.0000, Test Loss: 9.5591, Accuracy: 14.98%\n",
      "Epoch [6/15], Training Loss: 0.0000, Test Loss: 12.0267, Accuracy: 14.37%\n",
      "Epoch [7/15], Training Loss: 0.0082, Test Loss: 9.4729, Accuracy: 13.21%\n",
      "Epoch [8/15], Training Loss: 0.0000, Test Loss: 9.0612, Accuracy: 13.58%\n",
      "Epoch [9/15], Training Loss: 0.0064, Test Loss: 11.1705, Accuracy: 13.98%\n",
      "Epoch [10/15], Training Loss: 0.0000, Test Loss: 10.8314, Accuracy: 14.09%\n",
      "Epoch [11/15], Training Loss: 0.0000, Test Loss: 10.4624, Accuracy: 14.74%\n",
      "Epoch [12/15], Training Loss: 0.0000, Test Loss: 11.4214, Accuracy: 14.45%\n",
      "Epoch [13/15], Training Loss: 0.0016, Test Loss: 19.3066, Accuracy: 15.31%\n",
      "Epoch [14/15], Training Loss: 0.0000, Test Loss: 18.1452, Accuracy: 15.22%\n",
      "Epoch [15/15], Training Loss: 0.0000, Test Loss: 17.1807, Accuracy: 13.62%\n",
      "Epoch [1/15], Training Loss: 0.7500, Test Loss: 4.6915, Accuracy: 16.60%\n",
      "Epoch [2/15], Training Loss: 0.0408, Test Loss: 6.2484, Accuracy: 15.25%\n",
      "Epoch [3/15], Training Loss: 0.0281, Test Loss: 7.0124, Accuracy: 15.91%\n",
      "Epoch [4/15], Training Loss: 0.0027, Test Loss: 9.8509, Accuracy: 17.01%\n",
      "Epoch [5/15], Training Loss: 0.0085, Test Loss: 17.6046, Accuracy: 12.09%\n",
      "Epoch [6/15], Training Loss: 0.0097, Test Loss: 9.8115, Accuracy: 16.71%\n",
      "Epoch [7/15], Training Loss: 0.0007, Test Loss: 13.7243, Accuracy: 14.90%\n",
      "Epoch [8/15], Training Loss: 0.0168, Test Loss: 14.4709, Accuracy: 14.30%\n",
      "Epoch [9/15], Training Loss: 0.0054, Test Loss: 14.9556, Accuracy: 16.08%\n",
      "Epoch [10/15], Training Loss: 0.0104, Test Loss: 10.7477, Accuracy: 16.23%\n",
      "Epoch [11/15], Training Loss: 0.0007, Test Loss: 12.9413, Accuracy: 16.91%\n",
      "Epoch [12/15], Training Loss: 0.0014, Test Loss: 11.6217, Accuracy: 15.69%\n",
      "Epoch [13/15], Training Loss: 0.0011, Test Loss: 14.4996, Accuracy: 16.20%\n",
      "Epoch [14/15], Training Loss: 0.0001, Test Loss: 20.0321, Accuracy: 16.31%\n",
      "Epoch [15/15], Training Loss: 0.0055, Test Loss: 16.5092, Accuracy: 16.39%\n",
      "Epoch [1/15], Training Loss: 1.5581, Test Loss: 3.1847, Accuracy: 16.81%\n",
      "Epoch [2/15], Training Loss: 0.4026, Test Loss: 3.5244, Accuracy: 16.53%\n",
      "Epoch [3/15], Training Loss: 0.2342, Test Loss: 3.9768, Accuracy: 17.07%\n",
      "Epoch [4/15], Training Loss: 0.1931, Test Loss: 4.4173, Accuracy: 16.80%\n",
      "Epoch [5/15], Training Loss: 0.1618, Test Loss: 6.3278, Accuracy: 16.11%\n",
      "Epoch [6/15], Training Loss: 0.1833, Test Loss: 6.7670, Accuracy: 17.25%\n",
      "Epoch [7/15], Training Loss: 0.1376, Test Loss: 5.5243, Accuracy: 16.34%\n",
      "Epoch [8/15], Training Loss: 0.1500, Test Loss: 5.7590, Accuracy: 16.10%\n",
      "Epoch [9/15], Training Loss: 0.1263, Test Loss: 6.6219, Accuracy: 16.34%\n",
      "Epoch [10/15], Training Loss: 0.1324, Test Loss: 8.7261, Accuracy: 16.63%\n",
      "Epoch [11/15], Training Loss: 0.1186, Test Loss: 7.3487, Accuracy: 17.29%\n",
      "Epoch [12/15], Training Loss: 0.1159, Test Loss: 8.3740, Accuracy: 17.28%\n",
      "Epoch [13/15], Training Loss: 0.1162, Test Loss: 7.2269, Accuracy: 16.82%\n",
      "Epoch [14/15], Training Loss: 0.1171, Test Loss: 6.1824, Accuracy: 15.88%\n",
      "Epoch [15/15], Training Loss: 0.1052, Test Loss: 8.3767, Accuracy: 15.11%\n"
     ]
    }
   ],
   "source": [
    "for rate in [0.2, 0.5, 0.8]:\n",
    "    model = SimpleCNNWithDropout(dropout_rate=rate)\n",
    "    optimizer = torch.optim.RMSprop(model.parameters(), lr=0.001, alpha=0.9)\n",
    "    train_losses, test_losses, accuracies = train_model(model, criterion, optimizer)\n",
    "    # Store and compare results\n"
   ]
  },
  {
   "cell_type": "code",
   "execution_count": null,
   "id": "66e3e9c0-eed4-40a1-a0a6-7a5485f9f1f0",
   "metadata": {},
   "outputs": [],
   "source": []
  }
 ],
 "metadata": {
  "kernelspec": {
   "display_name": "Python 3 (ipykernel)",
   "language": "python",
   "name": "python3"
  },
  "language_info": {
   "codemirror_mode": {
    "name": "ipython",
    "version": 3
   },
   "file_extension": ".py",
   "mimetype": "text/x-python",
   "name": "python",
   "nbconvert_exporter": "python",
   "pygments_lexer": "ipython3",
   "version": "3.9.12"
  }
 },
 "nbformat": 4,
 "nbformat_minor": 5
}
